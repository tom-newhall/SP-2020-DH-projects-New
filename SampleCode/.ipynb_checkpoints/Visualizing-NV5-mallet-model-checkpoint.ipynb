{
 "cells": [
  {
   "cell_type": "markdown",
   "metadata": {},
   "source": [
    "# Topic Modeling the Native Voices Corpus\n",
    "\n"
   ]
  },
  {
   "cell_type": "markdown",
   "metadata": {},
   "source": [
    "## Methods and Preprocessing\n",
    "\n",
    "To create each model, I used the Latent Dirichlet Allocation algorithm instantiated in MALLET, a command-line package for topic modeling. \n",
    "\n",
    "<b>Parameters:</b> In addition to specifying the number of topics, I also used the optimize-interval option, set to 20 to ensure more accuracy in the weighting of topics. \n",
    "\n",
    "<b>Output:</b> I output the following files for present and future analysis:\n",
    "<ul>\n",
    "    <li>topic-states.gz for use in with pyLDAvis</li>\n",
    "    <li>topic-keys.txt, which I then converted to a csv file by replacing tabs with commas, saving it as this alternative file format with UTF-8 encoding, and adding a header row</li>\n",
    "    <li>doc-topics.txt, which I converted to a csv file by replacing tabs with commas, and saving it as a csv with UTF-8 encoding. I then removed the first two columns with document numbers and filepaths, converted the scientific notation to numerals with six digits after the decimal place, and added a header after manually labeling each of the topics based on my analysis of the keys file.</li>\n",
    "    <li>word-topic-counts-file as a txt file, which I've saved for potential later analysis and visualization using word clouds.</li>\n",
    "</ul>"
   ]
  },
  {
   "cell_type": "markdown",
   "metadata": {},
   "source": [
    "## Experimental Visualizations"
   ]
  },
  {
   "cell_type": "code",
   "execution_count": 2,
   "metadata": {},
   "outputs": [
    {
     "data": {
      "text/html": [
       "<style  type=\"text/css\" >\n",
       "    #T_ee4122dc_916c_11ea_b341_88e9fe4c5f8frow0_col2 {\n",
       "            width:  600px;\n",
       "        }    #T_ee4122dc_916c_11ea_b341_88e9fe4c5f8frow1_col2 {\n",
       "            width:  600px;\n",
       "        }    #T_ee4122dc_916c_11ea_b341_88e9fe4c5f8frow2_col2 {\n",
       "            width:  600px;\n",
       "        }    #T_ee4122dc_916c_11ea_b341_88e9fe4c5f8frow3_col2 {\n",
       "            width:  600px;\n",
       "        }    #T_ee4122dc_916c_11ea_b341_88e9fe4c5f8frow4_col2 {\n",
       "            width:  600px;\n",
       "        }</style>  \n",
       "<table id=\"T_ee4122dc_916c_11ea_b341_88e9fe4c5f8f\" > \n",
       "<thead>    <tr> \n",
       "        <th class=\"blank level0\" ></th> \n",
       "        <th class=\"col_heading level0 col0\" >topic_number</th> \n",
       "        <th class=\"col_heading level0 col1\" >topic_weight</th> \n",
       "        <th class=\"col_heading level0 col2\" >top_words</th> \n",
       "    </tr></thead> \n",
       "<tbody>    <tr> \n",
       "        <th id=\"T_ee4122dc_916c_11ea_b341_88e9fe4c5f8flevel0_row0\" class=\"row_heading level0 row0\" >0</th> \n",
       "        <td id=\"T_ee4122dc_916c_11ea_b341_88e9fe4c5f8frow0_col0\" class=\"data row0 col0\" >0</td> \n",
       "        <td id=\"T_ee4122dc_916c_11ea_b341_88e9fe4c5f8frow0_col1\" class=\"data row0 col1\" >0.08226</td> \n",
       "        <td id=\"T_ee4122dc_916c_11ea_b341_88e9fe4c5f8frow0_col2\" class=\"data row0 col2\" >indian indians amount trade march goods tribes agent department year tribe missouri agents war factory april account made superintendent received </td> \n",
       "    </tr>    <tr> \n",
       "        <th id=\"T_ee4122dc_916c_11ea_b341_88e9fe4c5f8flevel0_row1\" class=\"row_heading level0 row1\" >1</th> \n",
       "        <td id=\"T_ee4122dc_916c_11ea_b341_88e9fe4c5f8frow1_col0\" class=\"data row1 col0\" >1</td> \n",
       "        <td id=\"T_ee4122dc_916c_11ea_b341_88e9fe4c5f8frow1_col1\" class=\"data row1 col1\" >0.18384</td> \n",
       "        <td id=\"T_ee4122dc_916c_11ea_b341_88e9fe4c5f8frow1_col2\" class=\"data row1 col2\" >men river fort miles indians captain general time day place country hundred great troops march officers left company made ohio </td> \n",
       "    </tr>    <tr> \n",
       "        <th id=\"T_ee4122dc_916c_11ea_b341_88e9fe4c5f8flevel0_row2\" class=\"row_heading level0 row2\" >2</th> \n",
       "        <td id=\"T_ee4122dc_916c_11ea_b341_88e9fe4c5f8frow2_col0\" class=\"data row2 col0\" >2</td> \n",
       "        <td id=\"T_ee4122dc_916c_11ea_b341_88e9fe4c5f8frow2_col1\" class=\"data row2 col1\" >0.15352</td> \n",
       "        <td id=\"T_ee4122dc_916c_11ea_b341_88e9fe4c5f8frow2_col2\" class=\"data row2 col2\" >brethren indians indian held people time sunday saviour service preached detroit back good david made church heard early saturday land </td> \n",
       "    </tr>    <tr> \n",
       "        <th id=\"T_ee4122dc_916c_11ea_b341_88e9fe4c5f8flevel0_row3\" class=\"row_heading level0 row3\" >3</th> \n",
       "        <td id=\"T_ee4122dc_916c_11ea_b341_88e9fe4c5f8frow3_col0\" class=\"data row3 col0\" >3</td> \n",
       "        <td id=\"T_ee4122dc_916c_11ea_b341_88e9fe4c5f8frow3_col1\" class=\"data row3 col1\" >0.20868</td> \n",
       "        <td id=\"T_ee4122dc_916c_11ea_b341_88e9fe4c5f8frow3_col2\" class=\"data row3 col2\" >states united treaty indians nation state commissioners president lands made georgia government land part chiefs river general indian line country </td> \n",
       "    </tr>    <tr> \n",
       "        <th id=\"T_ee4122dc_916c_11ea_b341_88e9fe4c5f8flevel0_row4\" class=\"row_heading level0 row4\" >4</th> \n",
       "        <td id=\"T_ee4122dc_916c_11ea_b341_88e9fe4c5f8frow4_col0\" class=\"data row4 col0\" >4</td> \n",
       "        <td id=\"T_ee4122dc_916c_11ea_b341_88e9fe4c5f8frow4_col1\" class=\"data row4 col1\" >0.25627</td> \n",
       "        <td id=\"T_ee4122dc_916c_11ea_b341_88e9fe4c5f8frow4_col2\" class=\"data row4 col2\" >indians people great peace states war united general nation chiefs nations time brothers present white good council men father creeks </td> \n",
       "    </tr></tbody> \n",
       "</table> "
      ],
      "text/plain": [
       "<pandas.io.formats.style.Styler at 0x103843160>"
      ]
     },
     "execution_count": 2,
     "metadata": {},
     "output_type": "execute_result"
    }
   ],
   "source": [
    "# Open the topic-keys.txt that you created with MALLET. Replace the tab characters with commas. \n",
    "# Then save that file as a .csv.\n",
    "\n",
    "import pandas as pd\n",
    "\n",
    "nv5_topics = pd.Cov = pd.read_csv(\"/Users/asg/mallet/output/NV-DH199-s20/nv5-keys.csv\", sep=',', names=[\"topic_number\", \"topic_weight\", \"top_words\"])\n",
    "\n",
    "# nv5_topics\n",
    "\n",
    "nv5_topics.style.set_properties(subset=['top_words'], **{'width': '600px'})"
   ]
  },
  {
   "cell_type": "code",
   "execution_count": 3,
   "metadata": {},
   "outputs": [
    {
     "data": {
      "text/html": [
       "<style  type=\"text/css\" >\n",
       "    #T_ee45b2e8_916c_11ea_b341_88e9fe4c5f8frow0_col2 {\n",
       "            width:  500px;\n",
       "        }    #T_ee45b2e8_916c_11ea_b341_88e9fe4c5f8frow1_col2 {\n",
       "            width:  500px;\n",
       "        }    #T_ee45b2e8_916c_11ea_b341_88e9fe4c5f8frow2_col2 {\n",
       "            width:  500px;\n",
       "        }    #T_ee45b2e8_916c_11ea_b341_88e9fe4c5f8frow3_col2 {\n",
       "            width:  500px;\n",
       "        }    #T_ee45b2e8_916c_11ea_b341_88e9fe4c5f8frow4_col2 {\n",
       "            width:  500px;\n",
       "        }</style>  \n",
       "<table id=\"T_ee45b2e8_916c_11ea_b341_88e9fe4c5f8f\" > \n",
       "<thead>    <tr> \n",
       "        <th class=\"blank level0\" ></th> \n",
       "        <th class=\"col_heading level0 col0\" >topic_number</th> \n",
       "        <th class=\"col_heading level0 col1\" >topic_weight</th> \n",
       "        <th class=\"col_heading level0 col2\" >top_words</th> \n",
       "        <th class=\"col_heading level0 col3\" >labels</th> \n",
       "    </tr></thead> \n",
       "<tbody>    <tr> \n",
       "        <th id=\"T_ee45b2e8_916c_11ea_b341_88e9fe4c5f8flevel0_row0\" class=\"row_heading level0 row0\" >0</th> \n",
       "        <td id=\"T_ee45b2e8_916c_11ea_b341_88e9fe4c5f8frow0_col0\" class=\"data row0 col0\" >0</td> \n",
       "        <td id=\"T_ee45b2e8_916c_11ea_b341_88e9fe4c5f8frow0_col1\" class=\"data row0 col1\" >0.08226</td> \n",
       "        <td id=\"T_ee45b2e8_916c_11ea_b341_88e9fe4c5f8frow0_col2\" class=\"data row0 col2\" >indian indians amount trade march goods tribes agent department year tribe missouri agents war factory april account made superintendent received </td> \n",
       "        <td id=\"T_ee45b2e8_916c_11ea_b341_88e9fe4c5f8frow0_col3\" class=\"data row0 col3\" >trade</td> \n",
       "    </tr>    <tr> \n",
       "        <th id=\"T_ee45b2e8_916c_11ea_b341_88e9fe4c5f8flevel0_row1\" class=\"row_heading level0 row1\" >1</th> \n",
       "        <td id=\"T_ee45b2e8_916c_11ea_b341_88e9fe4c5f8frow1_col0\" class=\"data row1 col0\" >1</td> \n",
       "        <td id=\"T_ee45b2e8_916c_11ea_b341_88e9fe4c5f8frow1_col1\" class=\"data row1 col1\" >0.18384</td> \n",
       "        <td id=\"T_ee45b2e8_916c_11ea_b341_88e9fe4c5f8frow1_col2\" class=\"data row1 col2\" >men river fort miles indians captain general time day place country hundred great troops march officers left company made ohio </td> \n",
       "        <td id=\"T_ee45b2e8_916c_11ea_b341_88e9fe4c5f8frow1_col3\" class=\"data row1 col3\" >military</td> \n",
       "    </tr>    <tr> \n",
       "        <th id=\"T_ee45b2e8_916c_11ea_b341_88e9fe4c5f8flevel0_row2\" class=\"row_heading level0 row2\" >2</th> \n",
       "        <td id=\"T_ee45b2e8_916c_11ea_b341_88e9fe4c5f8frow2_col0\" class=\"data row2 col0\" >2</td> \n",
       "        <td id=\"T_ee45b2e8_916c_11ea_b341_88e9fe4c5f8frow2_col1\" class=\"data row2 col1\" >0.15352</td> \n",
       "        <td id=\"T_ee45b2e8_916c_11ea_b341_88e9fe4c5f8frow2_col2\" class=\"data row2 col2\" >brethren indians indian held people time sunday saviour service preached detroit back good david made church heard early saturday land </td> \n",
       "        <td id=\"T_ee45b2e8_916c_11ea_b341_88e9fe4c5f8frow2_col3\" class=\"data row2 col3\" >Christian missions</td> \n",
       "    </tr>    <tr> \n",
       "        <th id=\"T_ee45b2e8_916c_11ea_b341_88e9fe4c5f8flevel0_row3\" class=\"row_heading level0 row3\" >3</th> \n",
       "        <td id=\"T_ee45b2e8_916c_11ea_b341_88e9fe4c5f8frow3_col0\" class=\"data row3 col0\" >3</td> \n",
       "        <td id=\"T_ee45b2e8_916c_11ea_b341_88e9fe4c5f8frow3_col1\" class=\"data row3 col1\" >0.20868</td> \n",
       "        <td id=\"T_ee45b2e8_916c_11ea_b341_88e9fe4c5f8frow3_col2\" class=\"data row3 col2\" >states united treaty indians nation state commissioners president lands made georgia government land part chiefs river general indian line country </td> \n",
       "        <td id=\"T_ee45b2e8_916c_11ea_b341_88e9fe4c5f8frow3_col3\" class=\"data row3 col3\" >Treaties</td> \n",
       "    </tr>    <tr> \n",
       "        <th id=\"T_ee45b2e8_916c_11ea_b341_88e9fe4c5f8flevel0_row4\" class=\"row_heading level0 row4\" >4</th> \n",
       "        <td id=\"T_ee45b2e8_916c_11ea_b341_88e9fe4c5f8frow4_col0\" class=\"data row4 col0\" >4</td> \n",
       "        <td id=\"T_ee45b2e8_916c_11ea_b341_88e9fe4c5f8frow4_col1\" class=\"data row4 col1\" >0.25627</td> \n",
       "        <td id=\"T_ee45b2e8_916c_11ea_b341_88e9fe4c5f8frow4_col2\" class=\"data row4 col2\" >indians people great peace states war united general nation chiefs nations time brothers present white good council men father creeks </td> \n",
       "        <td id=\"T_ee45b2e8_916c_11ea_b341_88e9fe4c5f8frow4_col3\" class=\"data row4 col3\" >Native-US relations</td> \n",
       "    </tr></tbody> \n",
       "</table> "
      ],
      "text/plain": [
       "<pandas.io.formats.style.Styler at 0x10d7e30b8>"
      ]
     },
     "execution_count": 3,
     "metadata": {},
     "output_type": "execute_result"
    }
   ],
   "source": [
    "# Create a list of topic labels.\n",
    "labels = ['trade','military','Christian missions','Treaties','Native-US relations']\n",
    "# Add the labels list as a new column to the dataframe\n",
    "nv5_topics['labels'] = labels\n",
    "\n",
    "# Adjust the style of the dataframe so that the column of top_words is wide enough to see all of them.\n",
    "nv5_topics.style.set_properties(subset=['top_words'], **{'width': '500px'})"
   ]
  },
  {
   "cell_type": "code",
   "execution_count": 4,
   "metadata": {},
   "outputs": [
    {
     "data": {
      "image/png": "[encoded data removed]",
      "text/plain": [
       "<Figure size 1440x360 with 1 Axes>"
      ]
     },
     "metadata": {
      "needs_background": "light"
     },
     "output_type": "display_data"
    }
   ],
   "source": [
    "# Represent the weights of the topics as a simple bar chart, using the author-created topic labels. \n",
    "\n",
    "topic_bar = nv5_topics.plot.bar(x='labels', y='topic_weight', rot=0, figsize=(20,5))"
   ]
  },
  {
   "cell_type": "code",
   "execution_count": 5,
   "metadata": {},
   "outputs": [
    {
     "data": {
      "text/html": [
       "<div>\n",
       "<style scoped>\n",
       "    .dataframe tbody tr th:only-of-type {\n",
       "        vertical-align: middle;\n",
       "    }\n",
       "\n",
       "    .dataframe tbody tr th {\n",
       "        vertical-align: top;\n",
       "    }\n",
       "\n",
       "    .dataframe thead th {\n",
       "        text-align: right;\n",
       "    }\n",
       "</style>\n",
       "<table border=\"1\" class=\"dataframe\">\n",
       "  <thead>\n",
       "    <tr style=\"text-align: right;\">\n",
       "      <th></th>\n",
       "      <th>trade</th>\n",
       "      <th>military</th>\n",
       "      <th>Christian missions</th>\n",
       "      <th>S. treaties</th>\n",
       "      <th>Native-US relations</th>\n",
       "    </tr>\n",
       "  </thead>\n",
       "  <tbody>\n",
       "    <tr>\n",
       "      <th>0</th>\n",
       "      <td>0.000352</td>\n",
       "      <td>0.000786</td>\n",
       "      <td>0.009208</td>\n",
       "      <td>0.868842</td>\n",
       "      <td>0.120813</td>\n",
       "    </tr>\n",
       "    <tr>\n",
       "      <th>1</th>\n",
       "      <td>0.000619</td>\n",
       "      <td>0.343501</td>\n",
       "      <td>0.033915</td>\n",
       "      <td>0.038091</td>\n",
       "      <td>0.583875</td>\n",
       "    </tr>\n",
       "    <tr>\n",
       "      <th>2</th>\n",
       "      <td>0.045246</td>\n",
       "      <td>0.012422</td>\n",
       "      <td>0.030955</td>\n",
       "      <td>0.468205</td>\n",
       "      <td>0.443171</td>\n",
       "    </tr>\n",
       "    <tr>\n",
       "      <th>3</th>\n",
       "      <td>0.000140</td>\n",
       "      <td>0.030878</td>\n",
       "      <td>0.003657</td>\n",
       "      <td>0.000354</td>\n",
       "      <td>0.964971</td>\n",
       "    </tr>\n",
       "    <tr>\n",
       "      <th>4</th>\n",
       "      <td>0.001395</td>\n",
       "      <td>0.103534</td>\n",
       "      <td>0.000021</td>\n",
       "      <td>0.097207</td>\n",
       "      <td>0.797842</td>\n",
       "    </tr>\n",
       "  </tbody>\n",
       "</table>\n",
       "</div>"
      ],
      "text/plain": [
       "      trade  military  Christian missions  S. treaties  Native-US relations\n",
       "0  0.000352  0.000786            0.009208     0.868842             0.120813\n",
       "1  0.000619  0.343501            0.033915     0.038091             0.583875\n",
       "2  0.045246  0.012422            0.030955     0.468205             0.443171\n",
       "3  0.000140  0.030878            0.003657     0.000354             0.964971\n",
       "4  0.001395  0.103534            0.000021     0.097207             0.797842"
      ]
     },
     "execution_count": 5,
     "metadata": {},
     "output_type": "execute_result"
    }
   ],
   "source": [
    "# The mallet .txt doc-topics output file was converted to a csv, the document number and filepath columns \n",
    "# were deleted (in a copy of the original file), the number format was changed from scientific to decimal with \n",
    "# 6 places, and the labels from the previous step were added as column headers\n",
    "# in advance of reading the csv into a pandas dataframe.\n",
    "\n",
    "nv5_docs1 = pd.read_csv(\"/Users/asg/mallet/output/NV-DH199-s20/nv5-docs1.csv\", sep=',')\n",
    "\n",
    "# Preview the data\n",
    "nv5_docs1.head()"
   ]
  },
  {
   "cell_type": "code",
   "execution_count": 6,
   "metadata": {},
   "outputs": [
    {
     "ename": "ModuleNotFoundError",
     "evalue": "No module named 'numpy.core._multiarray_umath'",
     "output_type": "error",
     "traceback": [
      "\u001b[0;31m---------------------------------------------------------------------------\u001b[0m",
      "\u001b[0;31mModuleNotFoundError\u001b[0m                       Traceback (most recent call last)",
      "\u001b[0;31mModuleNotFoundError\u001b[0m: No module named 'numpy.core._multiarray_umath'"
     ]
    },
    {
     "data": {
      "text/plain": [
       "<matplotlib.axes._subplots.AxesSubplot at 0x118296c88>"
      ]
     },
     "execution_count": 6,
     "metadata": {},
     "output_type": "execute_result"
    },
    {
     "data": {
      "image/png": "[encoded data removed]",
      "text/plain": [
       "<Figure size 720x720 with 2 Axes>"
      ]
     },
     "metadata": {
      "needs_background": "light"
     },
     "output_type": "display_data"
    }
   ],
   "source": [
    "# Represent the topic weights in each document as a heatmap.\n",
    "\n",
    "import numpy as np\n",
    "import seaborn as sns\n",
    "import matplotlib.pyplot as plt\n",
    "\n",
    "%matplotlib inline\n",
    "\n",
    "# Set standard figure size to 10 x 10 inches.\n",
    "plt.rcParams['figure.figsize'] = (10.0, 10.0)\n",
    "\n",
    "# Set type to float to avoid unexexpected type error.\n",
    "nv5_docs1 = nv5_docs1[nv5_docs1.columns].astype(float)  # or int\n",
    "\n",
    "# Simpler code to create the default heatmap with the given figure size in line one above. Make it accessible\n",
    "# by using the 'inferno' colormap. \n",
    "\n",
    "sns.heatmap(nv5_docs1, cmap='inferno')\n"
   ]
  },
  {
   "cell_type": "code",
   "execution_count": 7,
   "metadata": {},
   "outputs": [
    {
     "data": {
      "text/plain": [
       "<seaborn.matrix.ClusterGrid at 0x10fae9c50>"
      ]
     },
     "execution_count": 7,
     "metadata": {},
     "output_type": "execute_result"
    },
    {
     "data": {
      "image/png": "[encoded data removed]",
      "text/plain": [
       "<Figure size 720x720 with 4 Axes>"
      ]
     },
     "metadata": {
      "needs_background": "light"
     },
     "output_type": "display_data"
    }
   ],
   "source": [
    "# Create a hierarchical heatmap using seaborn's \"clustermap\" method with default settings.\n",
    "# By default this method will cluster by both rows and columns, which is what is most useful for this data.\n",
    "\n",
    "sns.clustermap(nv5_docs1, cmap='inferno')"
   ]
  },
  {
   "cell_type": "markdown",
   "metadata": {},
   "source": [
    "## Exploring the model in _pandas_\n"
   ]
  },
  {
   "cell_type": "code",
   "execution_count": 8,
   "metadata": {},
   "outputs": [
    {
     "data": {
      "text/html": [
       "<div>\n",
       "<style scoped>\n",
       "    .dataframe tbody tr th:only-of-type {\n",
       "        vertical-align: middle;\n",
       "    }\n",
       "\n",
       "    .dataframe tbody tr th {\n",
       "        vertical-align: top;\n",
       "    }\n",
       "\n",
       "    .dataframe thead th {\n",
       "        text-align: right;\n",
       "    }\n",
       "</style>\n",
       "<table border=\"1\" class=\"dataframe\">\n",
       "  <thead>\n",
       "    <tr style=\"text-align: right;\">\n",
       "      <th></th>\n",
       "      <th>filename</th>\n",
       "      <th>trade</th>\n",
       "      <th>military</th>\n",
       "      <th>Christian missions</th>\n",
       "      <th>S. treaties</th>\n",
       "      <th>Native-US relations</th>\n",
       "    </tr>\n",
       "  </thead>\n",
       "  <tbody>\n",
       "    <tr>\n",
       "      <th>0</th>\n",
       "      <td>ASP-IA-v1-82</td>\n",
       "      <td>0.000352</td>\n",
       "      <td>0.000786</td>\n",
       "      <td>0.009208</td>\n",
       "      <td>0.868842</td>\n",
       "      <td>0.120813</td>\n",
       "    </tr>\n",
       "    <tr>\n",
       "      <th>1</th>\n",
       "      <td>1783-05-03-EDouglass</td>\n",
       "      <td>0.000619</td>\n",
       "      <td>0.343501</td>\n",
       "      <td>0.033915</td>\n",
       "      <td>0.038091</td>\n",
       "      <td>0.583875</td>\n",
       "    </tr>\n",
       "    <tr>\n",
       "      <th>2</th>\n",
       "      <td>ASP-IA-v1-96</td>\n",
       "      <td>0.045246</td>\n",
       "      <td>0.012422</td>\n",
       "      <td>0.030955</td>\n",
       "      <td>0.468205</td>\n",
       "      <td>0.443171</td>\n",
       "    </tr>\n",
       "    <tr>\n",
       "      <th>3</th>\n",
       "      <td>1782-06-14</td>\n",
       "      <td>0.000140</td>\n",
       "      <td>0.030878</td>\n",
       "      <td>0.003657</td>\n",
       "      <td>0.000354</td>\n",
       "      <td>0.964971</td>\n",
       "    </tr>\n",
       "    <tr>\n",
       "      <th>4</th>\n",
       "      <td>ASP-IA-v1-41</td>\n",
       "      <td>0.001395</td>\n",
       "      <td>0.103534</td>\n",
       "      <td>0.000021</td>\n",
       "      <td>0.097207</td>\n",
       "      <td>0.797842</td>\n",
       "    </tr>\n",
       "  </tbody>\n",
       "</table>\n",
       "</div>"
      ],
      "text/plain": [
       "               filename     trade  military  Christian missions  S. treaties  \\\n",
       "0          ASP-IA-v1-82  0.000352  0.000786            0.009208     0.868842   \n",
       "1  1783-05-03-EDouglass  0.000619  0.343501            0.033915     0.038091   \n",
       "2          ASP-IA-v1-96  0.045246  0.012422            0.030955     0.468205   \n",
       "3            1782-06-14  0.000140  0.030878            0.003657     0.000354   \n",
       "4          ASP-IA-v1-41  0.001395  0.103534            0.000021     0.097207   \n",
       "\n",
       "   Native-US relations  \n",
       "0             0.120813  \n",
       "1             0.583875  \n",
       "2             0.443171  \n",
       "3             0.964971  \n",
       "4             0.797842  "
      ]
     },
     "execution_count": 8,
     "metadata": {},
     "output_type": "execute_result"
    }
   ],
   "source": [
    "# In the duplicate csv file of the document-topic output, delete the first column (document number),\n",
    "# and remove the first part of the filepath so you're left with the filename, and then remove the file\n",
    "# extension (.txt).\n",
    "# First we need to read in the csv file that still has the filenames:\n",
    "\n",
    "nv5_docs = pd.read_csv(\"/Users/asg/mallet/output/NV-DH199-s20/nv5-docs.csv\", sep=\",\")\n",
    "\n",
    "nv5_docs.head()"
   ]
  },
  {
   "cell_type": "code",
   "execution_count": 9,
   "metadata": {},
   "outputs": [
    {
     "data": {
      "text/html": [
       "<div>\n",
       "<style scoped>\n",
       "    .dataframe tbody tr th:only-of-type {\n",
       "        vertical-align: middle;\n",
       "    }\n",
       "\n",
       "    .dataframe tbody tr th {\n",
       "        vertical-align: top;\n",
       "    }\n",
       "\n",
       "    .dataframe thead th {\n",
       "        text-align: right;\n",
       "    }\n",
       "</style>\n",
       "<table border=\"1\" class=\"dataframe\">\n",
       "  <thead>\n",
       "    <tr style=\"text-align: right;\">\n",
       "      <th></th>\n",
       "      <th>filename</th>\n",
       "      <th>trade</th>\n",
       "      <th>military</th>\n",
       "      <th>Christian missions</th>\n",
       "      <th>S. treaties</th>\n",
       "      <th>Native-US relations</th>\n",
       "    </tr>\n",
       "  </thead>\n",
       "  <tbody>\n",
       "    <tr>\n",
       "      <th>260</th>\n",
       "      <td>1793-09-08-Council</td>\n",
       "      <td>0.000224</td>\n",
       "      <td>0.999647</td>\n",
       "      <td>0.000032</td>\n",
       "      <td>0.000043</td>\n",
       "      <td>0.000053</td>\n",
       "    </tr>\n",
       "    <tr>\n",
       "      <th>524</th>\n",
       "      <td>sandusky_exp</td>\n",
       "      <td>0.000017</td>\n",
       "      <td>0.999452</td>\n",
       "      <td>0.000031</td>\n",
       "      <td>0.000042</td>\n",
       "      <td>0.000458</td>\n",
       "    </tr>\n",
       "    <tr>\n",
       "      <th>566</th>\n",
       "      <td>1782-05-24-Report</td>\n",
       "      <td>0.000149</td>\n",
       "      <td>0.998733</td>\n",
       "      <td>0.000278</td>\n",
       "      <td>0.000377</td>\n",
       "      <td>0.000464</td>\n",
       "    </tr>\n",
       "    <tr>\n",
       "      <th>171</th>\n",
       "      <td>1780-11-06-JRose_WIrvine</td>\n",
       "      <td>0.000037</td>\n",
       "      <td>0.993357</td>\n",
       "      <td>0.000521</td>\n",
       "      <td>0.000094</td>\n",
       "      <td>0.005990</td>\n",
       "    </tr>\n",
       "    <tr>\n",
       "      <th>257</th>\n",
       "      <td>EDenny-Journal</td>\n",
       "      <td>0.000405</td>\n",
       "      <td>0.928733</td>\n",
       "      <td>0.000660</td>\n",
       "      <td>0.016665</td>\n",
       "      <td>0.053537</td>\n",
       "    </tr>\n",
       "    <tr>\n",
       "      <th>651</th>\n",
       "      <td>1781-05-01-Report</td>\n",
       "      <td>0.000003</td>\n",
       "      <td>0.887423</td>\n",
       "      <td>0.000038</td>\n",
       "      <td>0.039268</td>\n",
       "      <td>0.073268</td>\n",
       "    </tr>\n",
       "    <tr>\n",
       "      <th>334</th>\n",
       "      <td>1779-01-27-Journal</td>\n",
       "      <td>0.000767</td>\n",
       "      <td>0.874050</td>\n",
       "      <td>0.043344</td>\n",
       "      <td>0.000148</td>\n",
       "      <td>0.081691</td>\n",
       "    </tr>\n",
       "    <tr>\n",
       "      <th>442</th>\n",
       "      <td>alee-journal</td>\n",
       "      <td>0.000031</td>\n",
       "      <td>0.844624</td>\n",
       "      <td>0.077615</td>\n",
       "      <td>0.070924</td>\n",
       "      <td>0.006807</td>\n",
       "    </tr>\n",
       "    <tr>\n",
       "      <th>156</th>\n",
       "      <td>ASP-IA-v1-22</td>\n",
       "      <td>0.015052</td>\n",
       "      <td>0.839550</td>\n",
       "      <td>0.000096</td>\n",
       "      <td>0.054509</td>\n",
       "      <td>0.090792</td>\n",
       "    </tr>\n",
       "    <tr>\n",
       "      <th>397</th>\n",
       "      <td>1784-Report</td>\n",
       "      <td>0.007502</td>\n",
       "      <td>0.827523</td>\n",
       "      <td>0.078507</td>\n",
       "      <td>0.086372</td>\n",
       "      <td>0.000096</td>\n",
       "    </tr>\n",
       "  </tbody>\n",
       "</table>\n",
       "</div>"
      ],
      "text/plain": [
       "                     filename     trade  military  Christian missions  \\\n",
       "260        1793-09-08-Council  0.000224  0.999647            0.000032   \n",
       "524              sandusky_exp  0.000017  0.999452            0.000031   \n",
       "566         1782-05-24-Report  0.000149  0.998733            0.000278   \n",
       "171  1780-11-06-JRose_WIrvine  0.000037  0.993357            0.000521   \n",
       "257            EDenny-Journal  0.000405  0.928733            0.000660   \n",
       "651         1781-05-01-Report  0.000003  0.887423            0.000038   \n",
       "334        1779-01-27-Journal  0.000767  0.874050            0.043344   \n",
       "442              alee-journal  0.000031  0.844624            0.077615   \n",
       "156              ASP-IA-v1-22  0.015052  0.839550            0.000096   \n",
       "397               1784-Report  0.007502  0.827523            0.078507   \n",
       "\n",
       "     S. treaties  Native-US relations  \n",
       "260     0.000043             0.000053  \n",
       "524     0.000042             0.000458  \n",
       "566     0.000377             0.000464  \n",
       "171     0.000094             0.005990  \n",
       "257     0.016665             0.053537  \n",
       "651     0.039268             0.073268  \n",
       "334     0.000148             0.081691  \n",
       "442     0.070924             0.006807  \n",
       "156     0.054509             0.090792  \n",
       "397     0.086372             0.000096  "
      ]
     },
     "execution_count": 9,
     "metadata": {},
     "output_type": "execute_result"
    }
   ],
   "source": [
    "# Use the sort_values() method to sort the dataframe by a topic of interest. \n",
    "\n",
    "nv5_docs_military = nv5_docs.sort_values(\"military\", ascending=False)\n",
    "\n",
    "nv5_docs_military.head(10)"
   ]
  },
  {
   "cell_type": "markdown",
   "metadata": {},
   "source": [
    "I'm currently working on a way to create the corpus as JSON file, which *should* remove the problem of character limits. Then, we can read the JSON file into a pandas dataframe and merge that dataframe with the <b>docs</b> dataframe in order to view the content of each document within the dataframe, rather than having to toggle between a jupyter notebook, finder window, and the plain text files, but for now, the latter option is a workaround.\n",
    "\n",
    "For our current exploration of the \"military\" topic, see the <a href=\"https://voyant-tools.org/?corpus=bdabc2797ab5226bfb1af925351d2ea5&panels=cirrus,reader,trends,summary,contexts\">Voyant-Tools interface</a> that I have already pre-populated with the ten most closely related documents."
   ]
  },
  {
   "cell_type": "code",
   "execution_count": null,
   "metadata": {},
   "outputs": [],
   "source": []
  }
 ],
 "metadata": {
  "kernelspec": {
   "display_name": "Python 3",
   "language": "python",
   "name": "python3"
  },
  "language_info": {
   "codemirror_mode": {
    "name": "ipython",
    "version": 3
   },
   "file_extension": ".py",
   "mimetype": "text/x-python",
   "name": "python",
   "nbconvert_exporter": "python",
   "pygments_lexer": "ipython3",
   "version": "3.7.0"
  }
 },
 "nbformat": 4,
 "nbformat_minor": 2
}
