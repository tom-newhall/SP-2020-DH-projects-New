{
 "cells": [
  {
   "cell_type": "code",
   "execution_count": 2,
   "metadata": {},
   "outputs": [],
   "source": [
    "import nltk\n",
    "import pandas as pd\n",
    "from nltk import word_tokenize\n",
    "from nltk.corpus import stopwords\n",
    "from nltk import FreqDist\n",
    "from nltk.collocations import *\n",
    "\n",
    "import numpy as np \n",
    "from matplotlib import pyplot as plt \n",
    "\n",
    "%matplotlib inline\n",
    "\n",
    "stop_words = stopwords.words('english')\n",
    "\n",
    "#To add additional stopwords, uncomment the following line and adjust the words you want to remove\n",
    "stop_words.extend(['states'])\n",
    "\n",
    "file = open('/Users/asg/Dropbox/00-UCLA/Courses/DH199-s20/Corpus/shawnee/shawnee_chron.txt').read()\n",
    "\n",
    "tokens = word_tokenize(file)\n",
    "\n",
    "#Make all words lowercase\n",
    "tokens_lower = [w.lower() for w in tokens]\n",
    "\n",
    "#Remove stopwords, punctuation, and numbers.\n",
    "content = [w for w in tokens_lower if w not in stop_words and w.isalpha()]"
   ]
  },
  {
   "cell_type": "code",
   "execution_count": 3,
   "metadata": {},
   "outputs": [],
   "source": [
    "#The Porter stemmer from NLTK was chosen for this example because it leaves more of the original word intact, \n",
    "#whereas the Lancaster stemmer is more aggressive and removes additional letters from the original word.\n",
    "porter = nltk.PorterStemmer()\n",
    "\n",
    "stemmed = [porter.stem(t) for t in content]\n",
    "\n",
    "#Print the tokenized and stemmed results after removing the stopwords to see how the stemmer functions.\n",
    "#print(stemmed)"
   ]
  },
  {
   "cell_type": "markdown",
   "metadata": {},
   "source": [
    "<h2>Collocations</h2>\n",
    "\n"
   ]
  },
  {
   "cell_type": "code",
   "execution_count": 4,
   "metadata": {},
   "outputs": [
    {
     "data": {
      "text/plain": [
       "[('fort', 'pitt'),\n",
       " ('de', 'peyster'),\n",
       " ('six', 'nations'),\n",
       " ('arent', 'de'),\n",
       " ('humble', 'servant'),\n",
       " ('beaver', 'creek'),\n",
       " ('new', 'orleans'),\n",
       " ('halted', 'refresh'),\n",
       " ('dear', 'sir'),\n",
       " ('detroit', 'mi'),\n",
       " ('main', 'body'),\n",
       " ('du', 'vernet'),\n",
       " ('obedient', 'humble'),\n",
       " ('two', 'hundred'),\n",
       " ('alexander', 'mckee')]"
      ]
     },
     "execution_count": 4,
     "metadata": {},
     "output_type": "execute_result"
    }
   ],
   "source": [
    "from nltk.collocations import BigramCollocationFinder \n",
    "from nltk.metrics import BigramAssocMeasures\n",
    "\n",
    "biagram_collocation = BigramCollocationFinder.from_words(content) \n",
    "biagram_collocation.nbest(BigramAssocMeasures.likelihood_ratio, 15)"
   ]
  },
  {
   "cell_type": "code",
   "execution_count": 5,
   "metadata": {},
   "outputs": [
    {
     "data": {
      "text/plain": [
       "[('reached', 'fort', 'pitt'),\n",
       " ('fort', 'pitt', 'refused'),\n",
       " ('treaty', 'fort', 'pitt'),\n",
       " ('commandant', 'fort', 'pitt'),\n",
       " ('fort', 'pitt', 'commissioners'),\n",
       " ('miles', 'fort', 'pitt'),\n",
       " ('dii', 'fort', 'pitt'),\n",
       " ('fort', 'pitt', 'nous'),\n",
       " ('mackentoy', 'fort', 'pitt'),\n",
       " ('population', 'fort', 'pitt'),\n",
       " ('left', 'fort', 'pitt'),\n",
       " ('accompany', 'fort', 'pitt'),\n",
       " ('betwixt', 'fort', 'pitt'),\n",
       " ('fort', 'pitt', 'lest'),\n",
       " ('fort', 'pitt', 'medium')]"
      ]
     },
     "execution_count": 5,
     "metadata": {},
     "output_type": "execute_result"
    }
   ],
   "source": [
    "from nltk.collocations import TrigramCollocationFinder \n",
    "from nltk.metrics import TrigramAssocMeasures \n",
    "\n",
    "trigram_collocation = TrigramCollocationFinder.from_words(content)  \n",
    "trigram_collocation.nbest(TrigramAssocMeasures.likelihood_ratio, 15)"
   ]
  },
  {
   "cell_type": "markdown",
   "metadata": {},
   "source": [
    "<h3>Spanning Intervening Words</h3>"
   ]
  },
  {
   "cell_type": "code",
   "execution_count": 6,
   "metadata": {},
   "outputs": [
    {
     "data": {
      "text/plain": [
       "[('fort', 'pitt'),\n",
       " ('de', 'peyster'),\n",
       " ('humble', 'servant'),\n",
       " ('obedient', 'servant'),\n",
       " ('six', 'nations'),\n",
       " ('sir', 'servant'),\n",
       " ('sir', 'humble'),\n",
       " ('beaver', 'creek'),\n",
       " ('arent', 'de'),\n",
       " ('halted', 'refresh')]"
      ]
     },
     "execution_count": 6,
     "metadata": {},
     "output_type": "execute_result"
    }
   ],
   "source": [
    "bigram_measures = nltk.collocations.BigramAssocMeasures()\n",
    "finder = BigramCollocationFinder.from_words(content, window_size=5)\n",
    "finder.apply_freq_filter(2)\n",
    "finder.nbest(bigram_measures.likelihood_ratio, 10)"
   ]
  },
  {
   "cell_type": "code",
   "execution_count": 16,
   "metadata": {},
   "outputs": [
    {
     "data": {
      "text/plain": [
       "[('man', 'requiring'),\n",
       " ('remarkable', 'man'),\n",
       " ('airs', 'man'),\n",
       " ('avas', 'man'),\n",
       " ('citizen', 'man'),\n",
       " ('courage', 'man'),\n",
       " ('delegate', 'man'),\n",
       " ('deserving', 'man'),\n",
       " ('dreading', 'man'),\n",
       " ('eights', 'man'),\n",
       " ('essay', 'man'),\n",
       " ('foolish', 'man'),\n",
       " ('goes', 'man'),\n",
       " ('inadvertently', 'man'),\n",
       " ('losing', 'man')]"
      ]
     },
     "execution_count": 16,
     "metadata": {},
     "output_type": "execute_result"
    }
   ],
   "source": [
    "#The following code finds bigrams of the keyword, but does not span an interval of words.\n",
    "\n",
    "bigram_measures = nltk.collocations.BigramAssocMeasures()\n",
    "kw_filter = lambda *w: 'man' not in w\n",
    "finder.apply_ngram_filter(kw_filter)\n",
    "finder.nbest(bigram_measures.pmi,15)"
   ]
  },
  {
   "cell_type": "markdown",
   "metadata": {},
   "source": [
    "### Notice that the code above identifies the top 15 bigrams using the <b><a href=\"https://medium.com/dataseries/understanding-pointwise-mutual-information-in-nlp-e4ef75ecb57a\">pointwise mutual information</a></b> association measure, but you can select different metrics to score bigrams, and thus identify them, differently. \n",
    "\n",
    "#### Notice the difference between the results above and the results below with the <em>mutual information</em> and <em>likelihood ratio</em> association measures, which, in this case, provide very similar results to each other, but quite different results from the PMI measure used above."
   ]
  },
  {
   "cell_type": "code",
   "execution_count": 17,
   "metadata": {},
   "outputs": [
    {
     "data": {
      "text/plain": [
       "[('every', 'man'),\n",
       " ('single', 'man'),\n",
       " ('young', 'man'),\n",
       " ('man', 'requiring'),\n",
       " ('remarkable', 'man'),\n",
       " ('man', 'column'),\n",
       " ('man', 'died'),\n",
       " ('man', 'whites'),\n",
       " ('kissingua', 'man'),\n",
       " ('man', 'allmost'),\n",
       " ('man', 'domestic'),\n",
       " ('man', 'stuart'),\n",
       " ('man', 'woman'),\n",
       " ('one', 'man'),\n",
       " ('man', 'nation')]"
      ]
     },
     "execution_count": 17,
     "metadata": {},
     "output_type": "execute_result"
    }
   ],
   "source": [
    "#The following code finds bigrams of the keyword, but does not span an interval of words.\n",
    "\n",
    "bigram_measures = nltk.collocations.BigramAssocMeasures()\n",
    "kw_filter = lambda *w: 'man' not in w\n",
    "finder.apply_ngram_filter(kw_filter)\n",
    "finder.nbest(bigram_measures.mi_like,15)"
   ]
  },
  {
   "cell_type": "code",
   "execution_count": 18,
   "metadata": {},
   "outputs": [
    {
     "data": {
      "text/plain": [
       "[('every', 'man'),\n",
       " ('young', 'man'),\n",
       " ('single', 'man'),\n",
       " ('remarkable', 'man'),\n",
       " ('man', 'requiring'),\n",
       " ('man', 'column'),\n",
       " ('man', 'died'),\n",
       " ('man', 'whites'),\n",
       " ('man', 'nation'),\n",
       " ('man', 'allmost'),\n",
       " ('man', 'domestic'),\n",
       " ('man', 'stuart'),\n",
       " ('man', 'woman'),\n",
       " ('kissingua', 'man'),\n",
       " ('man', 'horse')]"
      ]
     },
     "execution_count": 18,
     "metadata": {},
     "output_type": "execute_result"
    }
   ],
   "source": [
    "#The following code finds bigrams of the keyword, but does not span an interval of words.\n",
    "\n",
    "bigram_measures = nltk.collocations.BigramAssocMeasures()\n",
    "kw_filter = lambda *w: 'man' not in w\n",
    "finder.apply_ngram_filter(kw_filter)\n",
    "finder.nbest(bigram_measures.likelihood_ratio,15)"
   ]
  },
  {
   "cell_type": "markdown",
   "metadata": {},
   "source": [
    "### To learn more about the various types of co-occurrence and collocation identification, as well as the differences between association measures, read through the following slides and consider the questions embedded in them with regard to your own project.\n",
    "\n",
    "For even more details, read through <a href=\"https://drive.google.com/open?id=1Ji1dKprM9ufK5pmMZEGZLkN-_l9IcmqD\">Manning & Schutze, \"Collocations,\" (draft, 1999).</a> I've found their draft document to be much more detailed than their published version."
   ]
  },
  {
   "cell_type": "code",
   "execution_count": 15,
   "metadata": {},
   "outputs": [
    {
     "name": "stderr",
     "output_type": "stream",
     "text": [
      "/Library/Frameworks/Python.framework/Versions/3.7/lib/python3.7/site-packages/IPython/core/display.py:689: UserWarning: Consider using IPython.display.IFrame instead\n",
      "  warnings.warn(\"Consider using IPython.display.IFrame instead\")\n"
     ]
    },
    {
     "data": {
      "text/html": [
       "<iframe src=https://docs.google.com/presentation/d/e/2PACX-1vQPv3LUx0o9VfANY81eNbgbRr3RkS6STA4yXDbc72AyNKMWOEXcWQol4oO6JaZAFiumt8feN2TSR8wc/embed?start=false&loop=false&delayms=3000 width=960 height=569></iframe>"
      ],
      "text/plain": [
       "<IPython.core.display.HTML object>"
      ]
     },
     "execution_count": 15,
     "metadata": {},
     "output_type": "execute_result"
    }
   ],
   "source": [
    "#There is a known bug when using the suggested method (IPython.display.IFrame) in Jupyter Notebooks, but\n",
    "#the following code will actually render the desired iframe in notebooks without a problem.\n",
    "\n",
    "import IPython\n",
    "url = 'https://docs.google.com/presentation/d/e/2PACX-1vQPv3LUx0o9VfANY81eNbgbRr3RkS6STA4yXDbc72AyNKMWOEXcWQol4oO6JaZAFiumt8feN2TSR8wc/embed?start=false&loop=false&delayms=3000'\n",
    "iframe = '<iframe src=' + url + ' width=960 height=569></iframe>'\n",
    "IPython.display.HTML(iframe)"
   ]
  }
 ],
 "metadata": {
  "kernelspec": {
   "display_name": "Python 3",
   "language": "python",
   "name": "python3"
  },
  "language_info": {
   "codemirror_mode": {
    "name": "ipython",
    "version": 3
   },
   "file_extension": ".py",
   "mimetype": "text/x-python",
   "name": "python",
   "nbconvert_exporter": "python",
   "pygments_lexer": "ipython3",
   "version": "3.7.0"
  }
 },
 "nbformat": 4,
 "nbformat_minor": 2
}
