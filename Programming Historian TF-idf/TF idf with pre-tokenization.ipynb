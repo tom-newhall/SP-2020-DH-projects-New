{
 "cells": [
  {
   "cell_type": "code",
   "execution_count": 23,
   "metadata": {},
   "outputs": [
    {
     "name": "stdout",
     "output_type": "stream",
     "text": [
      "[['N', 'o', '.', '1'], ['長阿含經', '序', '長安', '釋', '僧肇', '述'], ['夫', '宗極', '絕', '於', '稱', '謂', '賢聖', '以', '之', '沖', '默', '玄', '旨', '非', '言', '不', '傳', '釋迦', '所', '以', '致', '教'], ['是', '以', '如來', '出世', '大教', '有', '三', '約', '身', '口', '則', '防', '之', '以', '禁', '律', '明', '善惡', '則', '導', '之', '以', '契經', '演', '幽', '微', '則', '辨', '之', '以', '法相'], ['然', '則', '三藏', '之', '作', '也', '本', '於', '殊', '應', '會', '之', '有宗', '則', '異', '途', '同', '趣', '矣'], ['禁', '律', '律藏', '也', '四分', '十', '誦'], ['法相', '阿毗曇', '藏', '也', '四分', '五', '誦'], ['契經', '四阿含', '藏', '也', '增一阿含', '四分', '八', '誦', '中阿含', '四分', '五', '誦', '雜阿含', '四分', '十', '誦', '此', '長阿含', '四分', '四', '誦', '合', '三', '十', '經', '以', '為', '一', '部'], ['阿含', '秦', '言', '法歸'], ['法歸', '者', '蓋', '是', '萬善', '之', '淵', '府', '總持', '之', '林', '苑']]\n",
      "This operation took 11.59 seconds\n"
     ]
    }
   ],
   "source": [
    "import dict_parser"
   ]
  },
  {
   "cell_type": "code",
   "execution_count": 3,
   "metadata": {},
   "outputs": [],
   "source": [
    "from sklearn.feature_extraction.text import TfidfVectorizer\n",
    "\n",
    "def dummy_fun(doc):\n",
    "    return doc\n",
    "\n",
    "tfidf = TfidfVectorizer(\n",
    "    analyzer='word',\n",
    "    tokenizer=dummy_fun,\n",
    "    preprocessor=dummy_fun,\n",
    "    token_pattern=None)  "
   ]
  },
  {
   "cell_type": "code",
   "execution_count": 7,
   "metadata": {},
   "outputs": [],
   "source": [
    "docs = [['佛法', '增益', '廣大', '寔', '由', '師', '徒', '相', '攝'], ['互', '相', '敦', '遇', '財', '法', '兩', '濟'], ['日', '積', '業', '深行', '久', '德', '固', '者', '皆', '賴', '斯', '矣'], ['比', '玄', '教', '陵', '遲', '慧', '風', '揜', '扇'], ['俗', '懷', '悔', '慢', '道', '出', '非', '法'], ['並', '由', '師', '無', '率', '誘', '之', '心'], ['資', '闕', '奉行', '之', '志'], ['二', '彼', '相', '捨', '妄', '流', '鄙', '境'], ['欲', '令', '光', '道', '焉', '可', '得', '乎'], ['故', '拯', '倒懸', '之', '急']]"
   ]
  },
  {
   "cell_type": "code",
   "execution_count": 8,
   "metadata": {},
   "outputs": [
    {
     "data": {
      "text/plain": [
       "TfidfVectorizer(analyzer='word', binary=False, decode_error='strict',\n",
       "                dtype=<class 'numpy.float64'>, encoding='utf-8',\n",
       "                input='content', lowercase=True, max_df=1.0, max_features=None,\n",
       "                min_df=1, ngram_range=(1, 1), norm='l2',\n",
       "                preprocessor=<function dummy_fun at 0xa1e89ab00>,\n",
       "                smooth_idf=True, stop_words=None, strip_accents=None,\n",
       "                sublinear_tf=False, token_pattern=None,\n",
       "                tokenizer=<function dummy_fun at 0xa1e89ab00>, use_idf=True,\n",
       "                vocabulary=None)"
      ]
     },
     "execution_count": 8,
     "metadata": {},
     "output_type": "execute_result"
    }
   ],
   "source": [
    "tfidf.fit(docs)\n"
   ]
  },
  {
   "cell_type": "code",
   "execution_count": 9,
   "metadata": {},
   "outputs": [
    {
     "data": {
      "text/plain": [
       "{'佛法': 7,\n",
       " '增益': 16,\n",
       " '廣大': 21,\n",
       " '寔': 19,\n",
       " '由': 54,\n",
       " '師': 20,\n",
       " '徒': 23,\n",
       " '相': 56,\n",
       " '攝': 37,\n",
       " '互': 5,\n",
       " '敦': 40,\n",
       " '遇': 64,\n",
       " '財': 61,\n",
       " '法': 46,\n",
       " '兩': 11,\n",
       " '濟': 49,\n",
       " '日': 42,\n",
       " '積': 58,\n",
       " '業': 43,\n",
       " '深行': 48,\n",
       " '久': 1,\n",
       " '德': 25,\n",
       " '固': 14,\n",
       " '者': 59,\n",
       " '皆': 55,\n",
       " '賴': 63,\n",
       " '斯': 41,\n",
       " '矣': 57,\n",
       " '比': 45,\n",
       " '玄': 52,\n",
       " '教': 39,\n",
       " '陵': 69,\n",
       " '遲': 66,\n",
       " '慧': 31,\n",
       " '風': 71,\n",
       " '揜': 36,\n",
       " '扇': 33,\n",
       " '俗': 8,\n",
       " '懷': 32,\n",
       " '悔': 29,\n",
       " '慢': 30,\n",
       " '道': 65,\n",
       " '出': 12,\n",
       " '非': 70,\n",
       " '並': 0,\n",
       " '無': 51,\n",
       " '率': 53,\n",
       " '誘': 60,\n",
       " '之': 2,\n",
       " '心': 26,\n",
       " '資': 62,\n",
       " '闕': 68,\n",
       " '奉行': 17,\n",
       " '志': 27,\n",
       " '二': 4,\n",
       " '彼': 22,\n",
       " '捨': 35,\n",
       " '妄': 18,\n",
       " '流': 47,\n",
       " '鄙': 67,\n",
       " '境': 15,\n",
       " '欲': 44,\n",
       " '令': 6,\n",
       " '光': 10,\n",
       " '焉': 50,\n",
       " '可': 13,\n",
       " '得': 24,\n",
       " '乎': 3,\n",
       " '故': 38,\n",
       " '拯': 34,\n",
       " '倒懸': 9,\n",
       " '急': 28}"
      ]
     },
     "execution_count": 9,
     "metadata": {},
     "output_type": "execute_result"
    }
   ],
   "source": [
    "tfidf.vocabulary_"
   ]
  },
  {
   "cell_type": "code",
   "execution_count": 17,
   "metadata": {},
   "outputs": [
    {
     "data": {
      "text/plain": [
       "(7, 72)"
      ]
     },
     "execution_count": 17,
     "metadata": {},
     "output_type": "execute_result"
    }
   ],
   "source": [
    "doc = ['Don\\'t', 'count', 'your', 'chickens', 'before', 'they', 'hatch']\n",
    "\n",
    "vector_1 = tfidf.transform(doc)\n",
    "vector_2 = tfidf.transform([doc])\n",
    "vector_1.shape"
   ]
  },
  {
   "cell_type": "code",
   "execution_count": 18,
   "metadata": {},
   "outputs": [
    {
     "data": {
      "text/plain": [
       "(1, 72)"
      ]
     },
     "execution_count": 18,
     "metadata": {},
     "output_type": "execute_result"
    }
   ],
   "source": [
    "vector_2.shape"
   ]
  },
  {
   "cell_type": "code",
   "execution_count": 24,
   "metadata": {},
   "outputs": [
    {
     "name": "stdout",
     "output_type": "stream",
     "text": [
      "Requirement already satisfied: jieba in /Users/tomnewhall/opt/anaconda3/lib/python3.7/site-packages (0.39)\r\n"
     ]
    }
   ],
   "source": [
    "!pip install jieba"
   ]
  },
  {
   "cell_type": "code",
   "execution_count": 25,
   "metadata": {},
   "outputs": [
    {
     "name": "stderr",
     "output_type": "stream",
     "text": [
      "Building prefix dict from the default dictionary ...\n",
      "Dumping model to file cache /var/folders/lz/6b83chc93ld263hj9wgwwkz00000gn/T/jieba.cache\n",
      "Loading model cost 0.932 seconds.\n",
      "Prefix dict has been built succesfully.\n"
     ]
    },
    {
     "name": "stdout",
     "output_type": "stream",
     "text": [
      "Full Mode: 我/ 来到/ 北京/ 清华/ 清华大学/ 华大/ 大学\n",
      "Default Mode: 我/ 来到/ 北京/ 清华大学\n",
      "他, 来到, 了, 网易, 杭研, 大厦\n",
      "小明, 硕士, 毕业, 于, 中国, 科学, 学院, 科学院, 中国科学院, 计算, 计算所, ，, 后, 在, 日本, 京都, 大学, 日本京都大学, 深造\n"
     ]
    }
   ],
   "source": [
    "#encoding=utf-8\n",
    "import jieba\n",
    "\n",
    "seg_list = jieba.cut(\"我来到北京清华大学\", cut_all=True)\n",
    "print(\"Full Mode: \" + \"/ \".join(seg_list))  # 全模式\n",
    "\n",
    "seg_list = jieba.cut(\"我来到北京清华大学\", cut_all=False)\n",
    "print(\"Default Mode: \" + \"/ \".join(seg_list))  # 默认模式\n",
    "\n",
    "seg_list = jieba.cut(\"他来到了网易杭研大厦\")\n",
    "print(\", \".join(seg_list))\n",
    "\n",
    "seg_list = jieba.cut_for_search(\"小明硕士毕业于中国科学院计算所，后在日本京都大学深造\")  # 搜索引擎模式\n",
    "print(\", \".join(seg_list))"
   ]
  },
  {
   "cell_type": "code",
   "execution_count": 26,
   "metadata": {},
   "outputs": [
    {
     "name": "stdout",
     "output_type": "stream",
     "text": [
      "<generator object Tokenizer.cut_for_search at 0x1a216bf9d0>\n"
     ]
    }
   ],
   "source": [
    "print(seg_list)"
   ]
  },
  {
   "cell_type": "code",
   "execution_count": 29,
   "metadata": {},
   "outputs": [
    {
     "name": "stdout",
     "output_type": "stream",
     "text": [
      "['佛法', '增益', '廣', '大', '寔', '由', '師', '徒', '相', '攝', '', '', '互相', '敦', '遇', '財', '法', '兩', '濟', '', '']\n"
     ]
    }
   ],
   "source": [
    "# cuts the file without any special dictionary\n",
    "text = \"佛法增益廣大寔由師徒相攝。互相敦遇財法兩濟。\"\n",
    "seg_list = jieba.cut(text, cut_all=True)\n",
    "print(list(seg_list))"
   ]
  },
  {
   "cell_type": "code",
   "execution_count": 33,
   "metadata": {},
   "outputs": [
    {
     "name": "stdout",
     "output_type": "stream",
     "text": [
      "['佛法', '增益', '廣大', '寔', '由', '師徒', '相攝', '。', '互相', '敦遇', '財法', '兩濟', '。']\n"
     ]
    }
   ],
   "source": [
    "jieba.load_userdict(\"dictionary_terms.txt\")\n",
    "text = \"佛法增益廣大寔由師徒相攝。互相敦遇財法兩濟。\"\n",
    "seg_list = jieba.cut(text, cut_all=False)\n",
    "print(list(seg_list))"
   ]
  },
  {
   "cell_type": "code",
   "execution_count": null,
   "metadata": {},
   "outputs": [],
   "source": []
  }
 ],
 "metadata": {
  "kernelspec": {
   "display_name": "Python 3",
   "language": "python",
   "name": "python3"
  },
  "language_info": {
   "codemirror_mode": {
    "name": "ipython",
    "version": 3
   },
   "file_extension": ".py",
   "mimetype": "text/x-python",
   "name": "python",
   "nbconvert_exporter": "python",
   "pygments_lexer": "ipython3",
   "version": "3.7.4"
  }
 },
 "nbformat": 4,
 "nbformat_minor": 2
}
