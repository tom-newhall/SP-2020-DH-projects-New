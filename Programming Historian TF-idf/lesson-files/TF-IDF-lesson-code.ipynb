{
 "cells": [
  {
   "cell_type": "code",
   "execution_count": 1,
   "metadata": {},
   "outputs": [
    {
     "name": "stdout",
     "output_type": "stream",
     "text": [
      "366\n"
     ]
    }
   ],
   "source": [
    "from pathlib import Path\n",
    "\n",
    "all_txt_files =[]\n",
    "for file in Path(\"txt\").rglob(\"*.txt\"):\n",
    "     all_txt_files.append(file.parent / file.name)\n",
    "# counts the length of the list\n",
    "n_files = len(all_txt_files)\n",
    "print(n_files)"
   ]
  },
  {
   "cell_type": "code",
   "execution_count": 3,
   "metadata": {},
   "outputs": [
    {
     "data": {
      "text/plain": [
       "PosixPath('txt/0101.txt')"
      ]
     },
     "execution_count": 3,
     "metadata": {},
     "output_type": "execute_result"
    }
   ],
   "source": [
    "all_txt_files.sort()\n",
    "all_txt_files[0]"
   ]
  },
  {
   "cell_type": "code",
   "execution_count": 4,
   "metadata": {},
   "outputs": [
    {
     "name": "stdout",
     "output_type": "stream",
     "text": [
      "PARIS, Nov. 4--The world of art today mourned Henri Matisse, one of France's greatest painters, who died in his apartment in Nice yesterday afternoon of a heart attack. He was 84 years old. Death came swiftly to the aged artist, who had been a semi-invalid since undergoing a serious operation in 1940. At his bedside were his daughter, Mme. Marguerite Duthite; his physician, a nurse and his secretary. Mme. Duthite had arrived in Nice from Paris a few days ago to visit her father. Jean Cassou, director of the Museum of Modern Art in Paris, recalled that Matisse, bedridden much of the time after his operation, continued to work from his room. \"Henri Matisse is one of the last representatives of French genius,\" he said. \"If the title of master suits any artist it certainly suited him. All men deserving of this name, all men who think, can consider themselves as his disciples. His thinking has illuminated our era.\" Andre Berthoin, Minister of National Education, in a statement on the death of the artist, said that the \"world will mourn\" with France. \"His was the most French of palettes. Intelligence, reason and the alliance of a sense of finesse and of simplifying geometry gave to all he painted the rare virtue of being truly French,\" M. Berthoin said. Matisse's two sons, Jean, a Paris sculptor, and Pierre, a New York art dealer, arrived in Nice tonight to attend the funeral. While the date and type of service have not yet been set, it was understood from Matisse's daughter that the painter had often requested a simple service with burial somewhere on the Riviera, where the artist had lived since 1939. Variety in His Approach Henri Matisse, leader of young rebel artists who brought the modern art movement into being in Paris a half century ago, was a master of color, a supreme draftsman who imbued a relatively small range of subject matter with constant variety. The artist's long career, begun with years of academic schooling, became set in its brilliant revolutionary course in 1905, when, in company with Rouault, Derain, Dufy, Vlaminck and a few others, Matisse set Paris on its ears in the Autumn Salon. The painters were excoriated as fauves-- wild beasts--and their pictures, flaming defiant canvases, were condemned as impossible. On June 25, 1951, thousands of tourists and natives crowded the small village of Vence in south France to see the Bishop bless what Matisse had called his \"masterpiece\"--a chapel on which he had started work four years before. Ailing and bedridden through much of this period, Matisse serenely progressed with his decorations for the chapel, drawing his designs with a long charcoal-tipped stick on the walls of his bedroom, later copying them on tiles and transferring them to stained glass. This was his last work, he announced: \"My bags are packed.\" Matisse held no common ground with those who considered modern art as a new mode. He once said that every art is a logical reflection of the time in which it is produced--an orderly and rational development of what had gone before. Ruled Out Reproduction Representation to him was a means to an end and not the end itself. On a visit to the United States in 1930, he answered the challengers of new art forms by saying, \"By mechanical means an image is now fixed on a photographic plate in a few seconds--an image more precise and exact than it is humanly possible to draw. And so, with the advent of photography disappeared the necessity for exact reproduction in art. Cezanne no longer painted one individual apple; he painted all apples. Van Gogh's 'Postman' is a portion of humanity.\" The artist was born on Dec. 31, 1869, the son of a grain merchant in Le Cateau in Picardy. The law had been chosen as his profession, and it took some persuasion over parental objections for Matisse to begin the art studies he yearned for. In Paris he studied under Gustave Moreau, and from 1893 to 1896 he produced sober still lifes and other quiet pictures influenced by Chardin and Corot. He copied old masters in the Louvre, earning his way through his schooling. In later years, telling about it, he said, \"One must learn to walk firmly on the ground before one tries the tightrope.\" In 1893 he married Amelie Moellie Parayre. The family was supported through the sale of all the painter's still lifes to a dealer who paid 400 francs apiece for them. Matisse narrated later: \"One day I had just finished one of my pictures. It was quite as good as the previous one and very much like it, and I knew that on its delivery I would get the money which I sorely needed. I looked at it, and then and there a feeling came over me that it was not I, that it did not express me or express what I felt.\" The artist destroyed the picture, counting his emancipation from that day. Opinions on the art of Matisse from the beginning of his emancipation through the tide of impressionism, post-impressionism and fauvism, varied considerably during the 1912 exhibition in London of modern French painters' work. Matisse emerged as an artist of great powers, but sections of the academic world called his work \"not art, but a dangerous and infectious disease.\" In 1908, excited comment had followed an exhibition of Matisse's paintings in the Stieglitz Gallery of New York; in 1913, at the famed Armory Show, the artist was the center of stormy debate. Through the years that have seen his pictures become prized pieces in public and private collections in all parts of the world, the artist grew in stature. He never left his explorations, and age only increased his daring as a colorist and his brilliance and gaiety. A few have complained that his work of recent years \"complacently repeated,\" but numbers of authoritative writers on Matisse and leading connoisseurs regard him as the foremost painter of the day. Matisse established himself permanently in Nice in 1917. When World War II started, the artist was in Paris. He made his way in stages by taxi and train back to Nice. In 1941, his son Pierre, reported that Matisse had undergone a serious operation. Friends tried to persuade the aging artist to leave France, but Matisse said, \"If all the talented people left France, the country would be much poorer. I began an artist's life very poor, and I am not afraid to be poor again. . . . Art has its value; it is a search after truth and truth is all that counts.\" The artist's birthdays during his last years usually found him working on a limited schedule, with congratulatory messages coming in from all over the world. At 83 he donated 100 of his works-- valued at up to $14,000,000--to his hometown of Le Cateau. And at about the same time, in a piece he wrote for the United Nations Educational, Scientific and Cultural Organization, Matisse told a little more of his theory of art. \"An artist has to look at life without prejudices, as he did when he was a child,\" he wrote. \"If he loses that faculty, he cannot express himself in an original, that is, in a personal way.\" By way of illustration he said there was nothing more difficult for a truly creative painter than to paint a rose. \"Because before he can do so,\" explained the artist, \"he has first of all to forget all the roses that were ever painted.\"\n"
     ]
    }
   ],
   "source": [
    "all_docs = []\n",
    "for txt_file in all_txt_files:\n",
    "    with open(txt_file) as f:\n",
    "        txt_file_as_string = f.read()\n",
    "    all_docs.append(txt_file_as_string)\n",
    "\n",
    "print(txt_file_as_string)"
   ]
  },
  {
   "cell_type": "code",
   "execution_count": 13,
   "metadata": {},
   "outputs": [],
   "source": [
    "#import the TfidfVectorizer from Scikit-Learn.  \n",
    "from sklearn.feature_extraction.text import TfidfVectorizer\n",
    " \n",
    "vectorizer = TfidfVectorizer(max_df=.65, min_df=1, stop_words=None, use_idf=True, norm=None)\n",
    "transformed_documents = vectorizer.fit_transform(all_docs)"
   ]
  },
  {
   "cell_type": "code",
   "execution_count": 14,
   "metadata": {},
   "outputs": [
    {
     "data": {
      "text/plain": [
       "366"
      ]
     },
     "execution_count": 14,
     "metadata": {},
     "output_type": "execute_result"
    }
   ],
   "source": [
    "transformed_documents_as_array = transformed_documents.toarray()\n",
    "# use this line of code to verify that the numpy array represents the same number of documents that we have in the file list\n",
    "len(transformed_documents_as_array)"
   ]
  },
  {
   "cell_type": "code",
   "execution_count": 15,
   "metadata": {},
   "outputs": [],
   "source": [
    "import pandas as pd\n",
    "\n",
    "# make the output folder if it doesn't already exist\n",
    "Path(\"./tf_idf_output\").mkdir(parents=True, exist_ok=True)"
   ]
  },
  {
   "cell_type": "code",
   "execution_count": 10,
   "metadata": {},
   "outputs": [],
   "source": [
    "# construct a list of output file paths using the previous list of text files the relative path for tf_idf_output\n",
    "output_filenames = [str(txt_file).replace(\".txt\", \".csv\").replace(\"txt/\", \"tf_idf_output/\") for txt_file in all_txt_files] #when it does a for within a dict or a list like that it bothers me but i basically get what's going on\n",
    "\n",
    "# loop each item in transformed_documents_as_array, using enumerate to keep track of the current position\n",
    "for counter, doc in enumerate(transformed_documents_as_array):\n",
    "    # construct a dataframe\n",
    "    tf_idf_tuples = list(zip(vectorizer.get_feature_names(), doc))\n",
    "    one_doc_as_df = pd.DataFrame.from_records(tf_idf_tuples, columns=['term', 'score']).sort_values(by='score', ascending=False).reset_index(drop=True)\n",
    "\n",
    "    # output to a csv using the enumerated value for the filename\n",
    "    one_doc_as_df.to_csv(output_filenames[counter])"
   ]
  }
 ],
 "metadata": {
  "kernelspec": {
   "display_name": "Python 3",
   "language": "python",
   "name": "python3"
  },
  "language_info": {
   "codemirror_mode": {
    "name": "ipython",
    "version": 3
   },
   "file_extension": ".py",
   "mimetype": "text/x-python",
   "name": "python",
   "nbconvert_exporter": "python",
   "pygments_lexer": "ipython3",
   "version": "3.7.6"
  }
 },
 "nbformat": 4,
 "nbformat_minor": 2
}
