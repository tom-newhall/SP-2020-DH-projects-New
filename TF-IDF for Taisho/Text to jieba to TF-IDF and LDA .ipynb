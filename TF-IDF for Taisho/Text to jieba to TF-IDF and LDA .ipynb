{
 "cells": [
  {
   "cell_type": "code",
   "execution_count": 1,
   "metadata": {},
   "outputs": [
    {
     "name": "stderr",
     "output_type": "stream",
     "text": [
      "Building prefix dict from the default dictionary ...\n",
      "Loading model from cache /var/folders/lz/6b83chc93ld263hj9wgwwkz00000gn/T/jieba.cache\n",
      "Loading model cost 0.712 seconds.\n",
      "Prefix dict has been built succesfully.\n"
     ]
    },
    {
     "name": "stdout",
     "output_type": "stream",
     "text": [
      "Full Mode: 我/ 来到/ 北京/ 清华/ 清华大学/ 华大/ 大学\n",
      "Default Mode: 我/ 来到/ 北京/ 清华大学\n",
      "他, 来到, 了, 网易, 杭研, 大厦\n",
      "小明, 硕士, 毕业, 于, 中国, 科学, 学院, 科学院, 中国科学院, 计算, 计算所, ，, 后, 在, 日本, 京都, 大学, 日本京都大学, 深造\n"
     ]
    }
   ],
   "source": [
    "# this is copied from a demo, just basically getting it to run\n",
    "\n",
    "#encoding=utf-8\n",
    "import jieba\n",
    "\n",
    "seg_list = jieba.cut(\"我来到北京清华大学\", cut_all=True)\n",
    "print(\"Full Mode: \" + \"/ \".join(seg_list))  # 全模式\n",
    "\n",
    "seg_list = jieba.cut(\"我来到北京清华大学\", cut_all=False)\n",
    "print(\"Default Mode: \" + \"/ \".join(seg_list))  # 默认模式\n",
    "\n",
    "seg_list = jieba.cut(\"他来到了网易杭研大厦\")\n",
    "print(\", \".join(seg_list))\n",
    "\n",
    "seg_list = jieba.cut_for_search(\"小明硕士毕业于中国科学院计算所，后在日本京都大学深造\")  # 搜索引擎模式\n",
    "print(\", \".join(seg_list))"
   ]
  },
  {
   "cell_type": "code",
   "execution_count": 2,
   "metadata": {},
   "outputs": [
    {
     "name": "stdout",
     "output_type": "stream",
     "text": [
      "['佛法', '增益', '廣', '大', '寔', '由', '師', '徒', '相', '攝', '', '', '互相', '敦', '遇', '財', '法', '兩', '濟', '', '']\n"
     ]
    }
   ],
   "source": [
    "# cuts the file without any special dictionary\n",
    "text = \"佛法增益廣大寔由師徒相攝。互相敦遇財法兩濟。\"\n",
    "seg_list = jieba.cut(text, cut_all=True)\n",
    "print(list(seg_list))"
   ]
  },
  {
   "cell_type": "code",
   "execution_count": 3,
   "metadata": {},
   "outputs": [
    {
     "name": "stdout",
     "output_type": "stream",
     "text": [
      "['佛法', '增益', '廣大', '寔', '由', '師徒', '相攝', '。', '互相', '敦遇', '財法', '兩濟', '。']\n"
     ]
    }
   ],
   "source": [
    "# loads a pre-made dictionary. This particular dictionary is the one based on the cbeta fojiao dacidian\n",
    "jieba.load_userdict(\"dictionary_terms.txt\")\n",
    "text = \"佛法增益廣大寔由師徒相攝。互相敦遇財法兩濟。\"\n",
    "seg_list = jieba.cut(text, cut_all=False)\n",
    "print(list(seg_list))"
   ]
  },
  {
   "cell_type": "markdown",
   "metadata": {},
   "source": [
    "Below is an example implementation from the Jieba github page; i'm just going to figure out what it does"
   ]
  },
  {
   "cell_type": "code",
   "execution_count": null,
   "metadata": {},
   "outputs": [],
   "source": [
    "# imports stuff\n",
    "import sys\n",
    "sys.path.append('../') # i guess, something to manipulate file paths\n",
    "\n",
    "import jieba\n",
    "import jieba.analyse\n",
    "from optparse import OptionParser #not sure what this is \"a more convenient, flexible, and powerful library for parsing command-line options\"\n",
    "# this seems like its probably meant for the command line, so running it here might not work\n",
    "\n",
    "USAGE = \"usage:    python extract_tags.py [file name] -k [top k]\" #this is basically the users guide, prints when there is an error\n",
    "\n",
    "parser = OptionParser(USAGE) #not sure what this is doing\n",
    "parser.add_option(\"-k\", dest=\"topK\") # adds the 'topK' option, which is basically a way to change how many words it outputs\n",
    "opt, args = parser.parse_args() #not sure, maybe takes the options from teh command line and puts them in those variables?\n",
    "\n",
    "\n",
    "# if there's an error in command line\n",
    "if len(args) < 1:\n",
    "    print(USAGE)\n",
    "    sys.exit(1)\n",
    "\n",
    "#the file name is the first argument\n",
    "file_name = args[0]\n",
    "\n",
    "# if no topk specified, default to 10\n",
    "if opt.topK is None:\n",
    "    topK = 10\n",
    "else:\n",
    "    topK = int(opt.topK) # not sure why you need this 'else' statement\n",
    "\n",
    "# opens the file; not sure what the 'rb' is\n",
    "content = open(file_name, 'rb').read()\n",
    "\n",
    "#there's the heavy lifting\n",
    "tags = jieba.analyse.extract_tags(content, topK=topK) #not sure why you need to say topK=topK cant you just put the variable in?\n",
    "\n",
    "# prints the output\n",
    "print(\",\".join(tags))\n",
    "\n",
    "# I'm not really sure why it prints other information like \"Loading model cost 0.644 seconds. and prefix dict has been built succesfully.\""
   ]
  }
 ],
 "metadata": {
  "kernelspec": {
   "display_name": "Python 3",
   "language": "python",
   "name": "python3"
  },
  "language_info": {
   "codemirror_mode": {
    "name": "ipython",
    "version": 3
   },
   "file_extension": ".py",
   "mimetype": "text/x-python",
   "name": "python",
   "nbconvert_exporter": "python",
   "pygments_lexer": "ipython3",
   "version": "3.7.4"
  }
 },
 "nbformat": 4,
 "nbformat_minor": 2
}
